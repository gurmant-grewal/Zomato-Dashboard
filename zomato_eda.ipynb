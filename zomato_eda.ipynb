{
 "cells": [
  {
   "cell_type": "markdown",
   "id": "be882216",
   "metadata": {},
   "source": [
    "# 🍽️ Zomato Dataset - Exploratory Data Analysis (EDA)\n",
    "This notebook explores the Zomato dataset to understand cuisine trends, city-level patterns, and restaurant characteristics across countries. The analysis supports building an interactive Streamlit dashboard."
   ]
  },
  {
   "cell_type": "markdown",
   "id": "8aa0cf49-fadf-4be0-b2da-293529dd7c33",
   "metadata": {},
   "source": [
    "**Zomato Dataset Exploratory Analysis**"
   ]
  },
  {
   "cell_type": "code",
   "execution_count": null,
   "id": "93ce0ecb-33bd-45e2-b181-e8807004a387",
   "metadata": {},
   "outputs": [],
   "source": [
    "import pandas as pd\n",
    "import numpy as np\n",
    "import matplotlib.pyplot as plt\n",
    "import seaborn as sns"
   ]
  },
  {
   "cell_type": "code",
   "execution_count": null,
   "id": "18e60b2b-4868-4f44-8650-825172a0ec88",
   "metadata": {},
   "outputs": [],
   "source": [
    "df= pd.read_csv('zomato.csv',encoding='Latin-1')\n",
    "df.head()"
   ]
  },
  {
   "cell_type": "code",
   "execution_count": null,
   "id": "c156e331-b785-41be-a13f-1dfb7fe6ce1a",
   "metadata": {},
   "outputs": [],
   "source": [
    "df.columns"
   ]
  },
  {
   "cell_type": "code",
   "execution_count": null,
   "id": "5e00193e-9552-4e97-8fd0-429fec24aac5",
   "metadata": {},
   "outputs": [],
   "source": [
    "df.info()\n"
   ]
  },
  {
   "cell_type": "code",
   "execution_count": null,
   "id": "c753ce73-78ed-4171-bf4f-6222314fbcfd",
   "metadata": {},
   "outputs": [],
   "source": [
    "df.describe()"
   ]
  },
  {
   "cell_type": "code",
   "execution_count": null,
   "id": "af0d63b8-5f42-44ab-97fd-4db6ade5aaa0",
   "metadata": {},
   "outputs": [],
   "source": [
    "df.shape"
   ]
  },
  {
   "cell_type": "code",
   "execution_count": null,
   "id": "2fae8e90-6808-4ec6-afbf-edf20f59e3d0",
   "metadata": {},
   "outputs": [],
   "source": [
    "##Cheacking weather there is a null value in the dataset\n",
    "df.isnull().sum()"
   ]
  },
  {
   "cell_type": "code",
   "execution_count": null,
   "id": "011df3ae-9116-4668-aff1-32ec78c3946d",
   "metadata": {},
   "outputs": [],
   "source": [
    "df_country=pd.read_excel('Country-Code.xlsx')\n",
    "df_country.head()"
   ]
  },
  {
   "cell_type": "code",
   "execution_count": null,
   "id": "6f14cd8b-6a3e-4630-aa16-245f52e35e20",
   "metadata": {},
   "outputs": [],
   "source": [
    "df.columns"
   ]
  },
  {
   "cell_type": "code",
   "execution_count": null,
   "id": "49dc3430-015a-464b-a7f8-d4467a5bfffb",
   "metadata": {},
   "outputs": [],
   "source": [
    "final_df=pd.merge(df,df_country,on='Country Code',how='left')\n",
    "final_df.head()"
   ]
  },
  {
   "cell_type": "code",
   "execution_count": null,
   "id": "319f7707-96a6-4fb0-ae11-5fe4f3f384f9",
   "metadata": {},
   "outputs": [],
   "source": [
    "## plotting a pie chart - Top 3 countries\n",
    "country_names=final_df.Country.value_counts().index\n",
    "country_vals=final_df.Country.value_counts().values\n"
   ]
  },
  {
   "cell_type": "code",
   "execution_count": null,
   "id": "a59f5d8a-0ac6-41ab-a628-fc8a3b5d7626",
   "metadata": {},
   "outputs": [],
   "source": [
    "plt.pie(country_vals[:3],labels=country_names[:3],autopct='%1.2f%%')\n",
    "plt.show()"
   ]
  },
  {
   "cell_type": "markdown",
   "id": "d7aec6db-b748-43b9-813b-67c2cb81ff57",
   "metadata": {},
   "source": [
    "**OBSERVATION** : zomato's maximum record of transactions are from India after that USA and then united kingdom"
   ]
  },
  {
   "cell_type": "code",
   "execution_count": null,
   "id": "2947a4f2-4b45-4fa6-876f-23bb3ea9a19e",
   "metadata": {},
   "outputs": [],
   "source": [
    "final_df.columns"
   ]
  },
  {
   "cell_type": "code",
   "execution_count": null,
   "id": "c71b8e1c-8c35-41a8-9d93-de64d984d7ac",
   "metadata": {},
   "outputs": [],
   "source": [
    "ratings=final_df.groupby(['Aggregate rating', 'Rating color', 'Rating text']).size().reset_index().rename(columns={0:'Rating count'})"
   ]
  },
  {
   "cell_type": "code",
   "execution_count": null,
   "id": "4888f294-9d9b-4e36-ae01-cbf13433495a",
   "metadata": {},
   "outputs": [],
   "source": [
    "ratings"
   ]
  },
  {
   "cell_type": "markdown",
   "id": "daeedcea-0a7e-414c-8ae7-7f827ae08ef3",
   "metadata": {},
   "source": [
    "**Observation**\n",
    "1. When Rating is between 4.5 to 4.9---> Excellent\n",
    "2. When Rating are between 4.0 to 3.4--->very good\n",
    "3. when Rating is between 3.5 to 3.9----> good\n",
    "4. when Rating is between 3.0 to 3.4----> average\n",
    "5. when Rating is between 2.5 to 2.9----> average\n",
    "6. when Rating is between 2.0 to 2.4----> Poor"
   ]
  },
  {
   "cell_type": "code",
   "execution_count": null,
   "id": "17017f7f-5203-4dc9-a781-647f1ec0c741",
   "metadata": {},
   "outputs": [],
   "source": [
    "ratings.head()"
   ]
  },
  {
   "cell_type": "code",
   "execution_count": null,
   "id": "c425168f-80a5-4c68-a853-4003862e6dcd",
   "metadata": {},
   "outputs": [],
   "source": [
    "import matplotlib\n",
    "matplotlib.rcParams['figure.figsize'] = (12, 6)\n",
    "sns.barplot(x='Aggregate rating',y='Rating count',hue='Rating color',data=ratings,palette=['blue','red','orange','yellow','green','green'])\n",
    "plt.show()"
   ]
  },
  {
   "cell_type": "markdown",
   "id": "9205ee03-d377-4613-a448-0e8d1a5da6e9",
   "metadata": {},
   "source": [
    "**OBSERVATION:**\n",
    " 1. not rated count is very high\n",
    " 2. maximum rating count is between 2.8 and 3.9"
   ]
  },
  {
   "cell_type": "code",
   "execution_count": null,
   "id": "1d5d6a0d-e7b9-4957-a289-df95635a5516",
   "metadata": {},
   "outputs": [],
   "source": [
    "# Countplot\n",
    "sns.countplot(x='Rating color',data=ratings,palette=['blue','red','orange','yellow','green','green'])\n",
    "plt.show()"
   ]
  },
  {
   "cell_type": "code",
   "execution_count": null,
   "id": "3c06261c-acf7-4c23-a163-08208fef4750",
   "metadata": {},
   "outputs": [],
   "source": [
    "# Finding the country names which gave 0 ratings\n",
    "final_df[final_df['Rating color']=='white'].groupby('Country').size().reset_index()"
   ]
  },
  {
   "cell_type": "markdown",
   "id": "eb5305fe-50af-496d-bfa0-f612fdb10a08",
   "metadata": {},
   "source": [
    "**Observation:** maximum number of zero rating are from indian customers"
   ]
  },
  {
   "cell_type": "code",
   "execution_count": null,
   "id": "0ea5403a-b689-4a5a-aeb2-99fd01718009",
   "metadata": {},
   "outputs": [],
   "source": [
    "# finding which currency is used by which country\n",
    "final_df.groupby(['Country','Currency']).size().reset_index().rename(columns={0:'count'})"
   ]
  },
  {
   "cell_type": "code",
   "execution_count": null,
   "id": "c880d642-5fc3-415e-bee2-f114de59d457",
   "metadata": {},
   "outputs": [],
   "source": [
    "# Which countries have online delivery option\n",
    "final_df[final_df['Has Online delivery']=='Yes'].Country.value_counts()"
   ]
  },
  {
   "cell_type": "code",
   "execution_count": null,
   "id": "4de95d45-3644-4bd3-8d88-dc8346862b21",
   "metadata": {},
   "outputs": [],
   "source": [
    "final_df.groupby(['Has Online delivery','Country']).size().reset_index()"
   ]
  },
  {
   "cell_type": "markdown",
   "id": "7436c3cb-e015-4360-8a87-1d6b2a71fd61",
   "metadata": {},
   "source": [
    "**OBSERVATION:** online delivery are only present in India and UAE"
   ]
  },
  {
   "cell_type": "code",
   "execution_count": null,
   "id": "cf45c2ad-6a70-4f19-8a84-d392fe9d1c35",
   "metadata": {},
   "outputs": [],
   "source": [
    "final_df.columns"
   ]
  },
  {
   "cell_type": "code",
   "execution_count": null,
   "id": "0c39a812-ee2b-4005-b9cc-c5ac02dca464",
   "metadata": {},
   "outputs": [],
   "source": [
    "# creating a pie chart for top 5 city distribution \n"
   ]
  },
  {
   "cell_type": "code",
   "execution_count": null,
   "id": "491e6bea-41b1-4413-a0b6-8cc6eb46b406",
   "metadata": {},
   "outputs": [],
   "source": [
    "final_df.City.value_counts().index"
   ]
  },
  {
   "cell_type": "code",
   "execution_count": null,
   "id": "8a821201-519f-4566-b3f1-dd649651e3a5",
   "metadata": {},
   "outputs": [],
   "source": [
    "city_value= final_df.City.value_counts().values\n",
    "city_name= final_df.City.value_counts().index"
   ]
  },
  {
   "cell_type": "code",
   "execution_count": null,
   "id": "c9fa8fe7-4106-413a-a1ed-dbfa500a3699",
   "metadata": {},
   "outputs": [],
   "source": [
    "plt.pie(city_value[:5],labels=city_name[:5],autopct='%1.2f%%')\n",
    "plt.show()"
   ]
  }
 ],
 "metadata": {
  "kernelspec": {
   "display_name": "Python [conda env:base] *",
   "language": "python",
   "name": "conda-base-py"
  },
  "language_info": {
   "codemirror_mode": {
    "name": "ipython",
    "version": 3
   },
   "file_extension": ".py",
   "mimetype": "text/x-python",
   "name": "python",
   "nbconvert_exporter": "python",
   "pygments_lexer": "ipython3",
   "version": "3.12.7"
  }
 },
 "nbformat": 4,
 "nbformat_minor": 5
}
